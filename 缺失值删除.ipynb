{
 "cells": [
  {
   "cell_type": "code",
   "execution_count": 1,
   "metadata": {},
   "outputs": [
    {
     "data": {
      "text/plain": [
       "[PosixPath('/home/ycm/repos/coursework/dpss-exp3-VC-BNF/data_saves/exp3-data-all/train_meta.csv'),\n",
       " PosixPath('/home/ycm/repos/coursework/dpss-exp3-VC-BNF/data_saves/exp3-data-all/dev_meta.csv'),\n",
       " PosixPath('/home/ycm/repos/coursework/dpss-exp3-VC-BNF/data_saves/exp3-data-all/test_meta.csv')]"
      ]
     },
     "execution_count": 1,
     "metadata": {},
     "output_type": "execute_result"
    }
   ],
   "source": [
    "from pathlib import Path\n",
    "path = \"/home/ycm/repos/coursework/dpss-exp3-VC-BNF/data_saves/exp3-data-all\"\n",
    "csvs = list(Path(path).rglob(\"*.csv\"))\n",
    "csvs"
   ]
  },
  {
   "cell_type": "code",
   "execution_count": 8,
   "metadata": {},
   "outputs": [],
   "source": [
    "# 备份旧的csv\n",
    "import shutil\n",
    "import os\n",
    "# 创建备份文件夹\n",
    "os.makedirs(os.path.join(path, \"backup\"), exist_ok=True)\n",
    "for csv in csvs:\n",
    "    shutil.copy(csv, os.path.join(path, \"backup\", csv.name))"
   ]
  },
  {
   "cell_type": "code",
   "execution_count": 6,
   "metadata": {},
   "outputs": [
    {
     "data": {
      "text/html": [
       "<div>\n",
       "<style scoped>\n",
       "    .dataframe tbody tr th:only-of-type {\n",
       "        vertical-align: middle;\n",
       "    }\n",
       "\n",
       "    .dataframe tbody tr th {\n",
       "        vertical-align: top;\n",
       "    }\n",
       "\n",
       "    .dataframe thead th {\n",
       "        text-align: right;\n",
       "    }\n",
       "</style>\n",
       "<table border=\"1\" class=\"dataframe\">\n",
       "  <thead>\n",
       "    <tr style=\"text-align: right;\">\n",
       "      <th></th>\n",
       "      <th>wav_name</th>\n",
       "      <th>BNF</th>\n",
       "      <th>Mel</th>\n",
       "      <th>Linear</th>\n",
       "      <th>F0</th>\n",
       "    </tr>\n",
       "  </thead>\n",
       "  <tbody>\n",
       "    <tr>\n",
       "      <th>0</th>\n",
       "      <td>bzn_000434</td>\n",
       "      <td>BNFs/bzn_000434.npy</td>\n",
       "      <td>mels/bzn_000434.npy</td>\n",
       "      <td>linears/bzn_000434.npy</td>\n",
       "      <td>f0s/bzn_000434.npy</td>\n",
       "    </tr>\n",
       "    <tr>\n",
       "      <th>1</th>\n",
       "      <td>bzn_000855</td>\n",
       "      <td>BNFs/bzn_000855.npy</td>\n",
       "      <td>mels/bzn_000855.npy</td>\n",
       "      <td>linears/bzn_000855.npy</td>\n",
       "      <td>f0s/bzn_000855.npy</td>\n",
       "    </tr>\n",
       "    <tr>\n",
       "      <th>2</th>\n",
       "      <td>mst-male_001314</td>\n",
       "      <td>BNFs/mst-male_001314.npy</td>\n",
       "      <td>mels/mst-male_001314.npy</td>\n",
       "      <td>linears/mst-male_001314.npy</td>\n",
       "      <td>f0s/mst-male_001314.npy</td>\n",
       "    </tr>\n",
       "    <tr>\n",
       "      <th>3</th>\n",
       "      <td>mst-female_000549</td>\n",
       "      <td>BNFs/mst-female_000549.npy</td>\n",
       "      <td>mels/mst-female_000549.npy</td>\n",
       "      <td>linears/mst-female_000549.npy</td>\n",
       "      <td>f0s/mst-female_000549.npy</td>\n",
       "    </tr>\n",
       "    <tr>\n",
       "      <th>4</th>\n",
       "      <td>mst-male_000542</td>\n",
       "      <td>BNFs/mst-male_000542.npy</td>\n",
       "      <td>mels/mst-male_000542.npy</td>\n",
       "      <td>linears/mst-male_000542.npy</td>\n",
       "      <td>f0s/mst-male_000542.npy</td>\n",
       "    </tr>\n",
       "  </tbody>\n",
       "</table>\n",
       "</div>"
      ],
      "text/plain": [
       "            wav_name                         BNF                         Mel  \\\n",
       "0         bzn_000434         BNFs/bzn_000434.npy         mels/bzn_000434.npy   \n",
       "1         bzn_000855         BNFs/bzn_000855.npy         mels/bzn_000855.npy   \n",
       "2    mst-male_001314    BNFs/mst-male_001314.npy    mels/mst-male_001314.npy   \n",
       "3  mst-female_000549  BNFs/mst-female_000549.npy  mels/mst-female_000549.npy   \n",
       "4    mst-male_000542    BNFs/mst-male_000542.npy    mels/mst-male_000542.npy   \n",
       "\n",
       "                          Linear                         F0  \n",
       "0         linears/bzn_000434.npy         f0s/bzn_000434.npy  \n",
       "1         linears/bzn_000855.npy         f0s/bzn_000855.npy  \n",
       "2    linears/mst-male_001314.npy    f0s/mst-male_001314.npy  \n",
       "3  linears/mst-female_000549.npy  f0s/mst-female_000549.npy  \n",
       "4    linears/mst-male_000542.npy    f0s/mst-male_000542.npy  "
      ]
     },
     "execution_count": 6,
     "metadata": {},
     "output_type": "execute_result"
    }
   ],
   "source": [
    "import pandas as pd\n",
    "dfs = [pd.read_csv(csv, sep='|', names=[\"wav_name\", \"BNF\", \"Mel\", \"Linear\", \"F0\"]) for csv in csvs]\n",
    "dfs[0].head()"
   ]
  },
  {
   "cell_type": "code",
   "execution_count": 23,
   "metadata": {},
   "outputs": [
    {
     "data": {
      "text/html": [
       "<div>\n",
       "<style scoped>\n",
       "    .dataframe tbody tr th:only-of-type {\n",
       "        vertical-align: middle;\n",
       "    }\n",
       "\n",
       "    .dataframe tbody tr th {\n",
       "        vertical-align: top;\n",
       "    }\n",
       "\n",
       "    .dataframe thead th {\n",
       "        text-align: right;\n",
       "    }\n",
       "</style>\n",
       "<table border=\"1\" class=\"dataframe\">\n",
       "  <thead>\n",
       "    <tr style=\"text-align: right;\">\n",
       "      <th></th>\n",
       "      <th>wav_name</th>\n",
       "      <th>BNF</th>\n",
       "      <th>Mel</th>\n",
       "      <th>Linear</th>\n",
       "      <th>F0</th>\n",
       "    </tr>\n",
       "  </thead>\n",
       "  <tbody>\n",
       "    <tr>\n",
       "      <th>0</th>\n",
       "      <td>bzn_000434</td>\n",
       "      <td>BNFs/bzn_000434.npy</td>\n",
       "      <td>mels/bzn_000434.npy</td>\n",
       "      <td>linears/bzn_000434.npy</td>\n",
       "      <td>f0s/bzn_000434.npy</td>\n",
       "    </tr>\n",
       "    <tr>\n",
       "      <th>1</th>\n",
       "      <td>bzn_000855</td>\n",
       "      <td>BNFs/bzn_000855.npy</td>\n",
       "      <td>mels/bzn_000855.npy</td>\n",
       "      <td>linears/bzn_000855.npy</td>\n",
       "      <td>f0s/bzn_000855.npy</td>\n",
       "    </tr>\n",
       "    <tr>\n",
       "      <th>2</th>\n",
       "      <td>mst-male_001314</td>\n",
       "      <td>BNFs/mst-male_001314.npy</td>\n",
       "      <td>mels/mst-male_001314.npy</td>\n",
       "      <td>linears/mst-male_001314.npy</td>\n",
       "      <td>f0s/mst-male_001314.npy</td>\n",
       "    </tr>\n",
       "    <tr>\n",
       "      <th>3</th>\n",
       "      <td>mst-female_000549</td>\n",
       "      <td>BNFs/mst-female_000549.npy</td>\n",
       "      <td>mels/mst-female_000549.npy</td>\n",
       "      <td>linears/mst-female_000549.npy</td>\n",
       "      <td>f0s/mst-female_000549.npy</td>\n",
       "    </tr>\n",
       "    <tr>\n",
       "      <th>4</th>\n",
       "      <td>mst-male_000542</td>\n",
       "      <td>BNFs/mst-male_000542.npy</td>\n",
       "      <td>mels/mst-male_000542.npy</td>\n",
       "      <td>linears/mst-male_000542.npy</td>\n",
       "      <td>f0s/mst-male_000542.npy</td>\n",
       "    </tr>\n",
       "  </tbody>\n",
       "</table>\n",
       "</div>"
      ],
      "text/plain": [
       "            wav_name                         BNF                         Mel  \\\n",
       "0         bzn_000434         BNFs/bzn_000434.npy         mels/bzn_000434.npy   \n",
       "1         bzn_000855         BNFs/bzn_000855.npy         mels/bzn_000855.npy   \n",
       "2    mst-male_001314    BNFs/mst-male_001314.npy    mels/mst-male_001314.npy   \n",
       "3  mst-female_000549  BNFs/mst-female_000549.npy  mels/mst-female_000549.npy   \n",
       "4    mst-male_000542    BNFs/mst-male_000542.npy    mels/mst-male_000542.npy   \n",
       "\n",
       "                          Linear                         F0  \n",
       "0         linears/bzn_000434.npy         f0s/bzn_000434.npy  \n",
       "1         linears/bzn_000855.npy         f0s/bzn_000855.npy  \n",
       "2    linears/mst-male_001314.npy    f0s/mst-male_001314.npy  \n",
       "3  linears/mst-female_000549.npy  f0s/mst-female_000549.npy  \n",
       "4    linears/mst-male_000542.npy    f0s/mst-male_000542.npy  "
      ]
     },
     "execution_count": 23,
     "metadata": {},
     "output_type": "execute_result"
    }
   ],
   "source": [
    "dfs[1].head()\n"
   ]
  },
  {
   "cell_type": "code",
   "execution_count": 24,
   "metadata": {},
   "outputs": [
    {
     "data": {
      "text/html": [
       "<div>\n",
       "<style scoped>\n",
       "    .dataframe tbody tr th:only-of-type {\n",
       "        vertical-align: middle;\n",
       "    }\n",
       "\n",
       "    .dataframe tbody tr th {\n",
       "        vertical-align: top;\n",
       "    }\n",
       "\n",
       "    .dataframe thead th {\n",
       "        text-align: right;\n",
       "    }\n",
       "</style>\n",
       "<table border=\"1\" class=\"dataframe\">\n",
       "  <thead>\n",
       "    <tr style=\"text-align: right;\">\n",
       "      <th></th>\n",
       "      <th>wav_name</th>\n",
       "      <th>BNF</th>\n",
       "      <th>Mel</th>\n",
       "      <th>Linear</th>\n",
       "      <th>F0</th>\n",
       "    </tr>\n",
       "  </thead>\n",
       "  <tbody>\n",
       "    <tr>\n",
       "      <th>0</th>\n",
       "      <td>mst-female_001347</td>\n",
       "      <td>BNFs/mst-female_001347.npy</td>\n",
       "      <td>mels/mst-female_001347.npy</td>\n",
       "      <td>linears/mst-female_001347.npy</td>\n",
       "      <td>f0s/mst-female_001347.npy</td>\n",
       "    </tr>\n",
       "    <tr>\n",
       "      <th>1</th>\n",
       "      <td>mst-female_001801</td>\n",
       "      <td>BNFs/mst-female_001801.npy</td>\n",
       "      <td>mels/mst-female_001801.npy</td>\n",
       "      <td>linears/mst-female_001801.npy</td>\n",
       "      <td>f0s/mst-female_001801.npy</td>\n",
       "    </tr>\n",
       "    <tr>\n",
       "      <th>2</th>\n",
       "      <td>bzn_000430</td>\n",
       "      <td>BNFs/bzn_000430.npy</td>\n",
       "      <td>mels/bzn_000430.npy</td>\n",
       "      <td>linears/bzn_000430.npy</td>\n",
       "      <td>f0s/bzn_000430.npy</td>\n",
       "    </tr>\n",
       "    <tr>\n",
       "      <th>3</th>\n",
       "      <td>bzn_000338</td>\n",
       "      <td>BNFs/bzn_000338.npy</td>\n",
       "      <td>mels/bzn_000338.npy</td>\n",
       "      <td>linears/bzn_000338.npy</td>\n",
       "      <td>f0s/bzn_000338.npy</td>\n",
       "    </tr>\n",
       "    <tr>\n",
       "      <th>4</th>\n",
       "      <td>bzn_001249</td>\n",
       "      <td>BNFs/bzn_001249.npy</td>\n",
       "      <td>mels/bzn_001249.npy</td>\n",
       "      <td>linears/bzn_001249.npy</td>\n",
       "      <td>f0s/bzn_001249.npy</td>\n",
       "    </tr>\n",
       "  </tbody>\n",
       "</table>\n",
       "</div>"
      ],
      "text/plain": [
       "            wav_name                         BNF                         Mel  \\\n",
       "0  mst-female_001347  BNFs/mst-female_001347.npy  mels/mst-female_001347.npy   \n",
       "1  mst-female_001801  BNFs/mst-female_001801.npy  mels/mst-female_001801.npy   \n",
       "2         bzn_000430         BNFs/bzn_000430.npy         mels/bzn_000430.npy   \n",
       "3         bzn_000338         BNFs/bzn_000338.npy         mels/bzn_000338.npy   \n",
       "4         bzn_001249         BNFs/bzn_001249.npy         mels/bzn_001249.npy   \n",
       "\n",
       "                          Linear                         F0  \n",
       "0  linears/mst-female_001347.npy  f0s/mst-female_001347.npy  \n",
       "1  linears/mst-female_001801.npy  f0s/mst-female_001801.npy  \n",
       "2         linears/bzn_000430.npy         f0s/bzn_000430.npy  \n",
       "3         linears/bzn_000338.npy         f0s/bzn_000338.npy  \n",
       "4         linears/bzn_001249.npy         f0s/bzn_001249.npy  "
      ]
     },
     "execution_count": 24,
     "metadata": {},
     "output_type": "execute_result"
    }
   ],
   "source": [
    "dfs[2].head()"
   ]
  },
  {
   "cell_type": "code",
   "execution_count": 14,
   "metadata": {},
   "outputs": [],
   "source": [
    "base_path = Path(\"data_saves/exp3-data-all\")"
   ]
  },
  {
   "cell_type": "code",
   "execution_count": 15,
   "metadata": {},
   "outputs": [
    {
     "data": {
      "text/plain": [
       "False"
      ]
     },
     "execution_count": 15,
     "metadata": {},
     "output_type": "execute_result"
    }
   ],
   "source": [
    "import numpy as np\n",
    "def element_is_nan(x):\n",
    "    return np.any(np.isnan(np.load(base_path/x)))\n",
    "element_is_nan(dfs[0].iloc[0][\"BNF\"])"
   ]
  },
  {
   "cell_type": "code",
   "execution_count": 20,
   "metadata": {},
   "outputs": [],
   "source": [
    "from tqdm import tqdm\n",
    "def remove_nan_rows(df):\n",
    "    to_remove_rows = []\n",
    "    # 每一行遍历\n",
    "    for i in tqdm(range(len(df))):\n",
    "        for col in df.columns[1:]:\n",
    "            if element_is_nan(df.iloc[i][col]):\n",
    "                to_remove_rows.append(i)\n",
    "    return df.drop(to_remove_rows), to_remove_rows"
   ]
  },
  {
   "cell_type": "code",
   "execution_count": 21,
   "metadata": {},
   "outputs": [
    {
     "name": "stderr",
     "output_type": "stream",
     "text": [
      "100%|██████████| 5397/5397 [02:18<00:00, 39.08it/s]\n"
     ]
    },
    {
     "data": {
      "text/plain": [
       "[]"
      ]
     },
     "execution_count": 21,
     "metadata": {},
     "output_type": "execute_result"
    }
   ],
   "source": [
    "dfs[0], to_remove_rows = remove_nan_rows(dfs[0])\n",
    "to_remove_rows"
   ]
  },
  {
   "cell_type": "code",
   "execution_count": 22,
   "metadata": {},
   "outputs": [
    {
     "name": "stderr",
     "output_type": "stream",
     "text": [
      "100%|██████████| 5397/5397 [00:16<00:00, 323.56it/s]\n"
     ]
    },
    {
     "data": {
      "text/plain": [
       "[]"
      ]
     },
     "execution_count": 22,
     "metadata": {},
     "output_type": "execute_result"
    }
   ],
   "source": [
    "dfs[1], to_remove_rows = remove_nan_rows(dfs[0])\n",
    "to_remove_rows"
   ]
  },
  {
   "cell_type": "code",
   "execution_count": 25,
   "metadata": {},
   "outputs": [
    {
     "name": "stderr",
     "output_type": "stream",
     "text": [
      "100%|██████████| 5397/5397 [00:14<00:00, 362.69it/s]\n"
     ]
    },
    {
     "data": {
      "text/plain": [
       "[]"
      ]
     },
     "execution_count": 25,
     "metadata": {},
     "output_type": "execute_result"
    }
   ],
   "source": [
    "dfs[2], to_remove_rows = remove_nan_rows(dfs[0])\n",
    "to_remove_rows"
   ]
  }
 ],
 "metadata": {
  "kernelspec": {
   "display_name": "dpss",
   "language": "python",
   "name": "python3"
  },
  "language_info": {
   "codemirror_mode": {
    "name": "ipython",
    "version": 3
   },
   "file_extension": ".py",
   "mimetype": "text/x-python",
   "name": "python",
   "nbconvert_exporter": "python",
   "pygments_lexer": "ipython3",
   "version": "3.8.20"
  }
 },
 "nbformat": 4,
 "nbformat_minor": 2
}
